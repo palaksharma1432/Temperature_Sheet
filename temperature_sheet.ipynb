{
 "cells": [
  {
   "cell_type": "code",
   "execution_count": 1,
   "id": "da5d77a6",
   "metadata": {},
   "outputs": [
    {
     "name": "stdout",
     "output_type": "stream",
     "text": [
      "ques-1_temperatures of four months(nov,dec,jan,feb) of jaipur:-\n",
      " [[[[ 10   8  15   6  11  12   6]\n",
      "   [ 29  29  30  28  26  20  21]]\n",
      "\n",
      "  [[ 14  13   8 -13   6  12   7]\n",
      "   [ 25  29  25  27  27  22  28]]\n",
      "\n",
      "  [[ 10  15  14  14  13   6  14]\n",
      "   [ 23  27  23  24  23  29  30]]\n",
      "\n",
      "  [[  8  13  10  13   6  11   6]\n",
      "   [ 22  32  26  22  27  27  21]]]\n",
      "\n",
      "\n",
      " [[[  6  15   8   9  14  15  11]\n",
      "   [ 27  24  28  20  27  28  29]]\n",
      "\n",
      "  [[ 13  14  10  11   9   9  10]\n",
      "   [ 24  28  27  25  22  27  27]]\n",
      "\n",
      "  [[ 13  10   7  12  10   8  13]\n",
      "   [ 29  20  21  24  27  28  30]]\n",
      "\n",
      "  [[ 10   9  12   6   6   9  12]\n",
      "   [ 25  32  30  30  23  20  21]]]\n",
      "\n",
      "\n",
      " [[[  7   2   7   5   5   6  22]\n",
      "   [ 21  21  18  19  22  22   8]]\n",
      "\n",
      "  [[  4   5   6   7   6   7  22]\n",
      "   [ 21  22  21  19  20   4   6]]\n",
      "\n",
      "  [[  2   6   6   7   4   4  22]\n",
      "   [ 18  19  19  19  18   6   7]]\n",
      "\n",
      "  [[  4   5   3   8   7   5  20]\n",
      "   [ 22  18  22  22  18   5   2]]]\n",
      "\n",
      "\n",
      " [[[  9   9 -10  11  12   8  21]\n",
      "   [ 19  22  22  19  19  71  10]]\n",
      "\n",
      "  [[  8   7   7   7  11  12  22]\n",
      "   [ 20  21  18  18  21   8  11]]\n",
      "\n",
      "  [[  9   7  12   9  11   7  22]\n",
      "   [ 22  21  18  18  18   8  11]]\n",
      "\n",
      "  [[  7  10   7  11  11  10  19]\n",
      "   [ 19  20  22  20  20  12  11]]]]\n"
     ]
    }
   ],
   "source": [
    "import numpy as np\n",
    "b=np.array([[[[10,8,15,6,11,12,6],[29,29,30,28,26,20,21]],\n",
    "             [[14,13,8,-13,6,12,7],[25,29,25,27,27,22,28]],\n",
    "             [[10,15,14,14,13,6,14],[23,27,23,24,23,29,30]],\n",
    "            [[8,13,10,13,6,11,6],[22,32,26,22,27,27,21]]],\n",
    "           [[[6,15,8,9,14,15,11],[27,24,28,20,27,28,29]],\n",
    "           [[13,14,10,11,9,9,10],[24,28,27,25,22,27,27]],\n",
    "           [[13,10,7,12,10,8,13],[29,20,21,24,27,28,30]],\n",
    "           [[10,9,12,6,6,9,12],[25,32,30,30,23,20,21]]],\n",
    "           [[[7,2,7,5,5,6,22],[21,21,18,19,22,22,8]],\n",
    "           [[4,5,6,7,6,7,22],[21,22,21,19,20,4,6]],\n",
    "           [[2,6,6,7,4,4,22],[18,19,19,19,18,6,7]],\n",
    "           [[4,5,3,8,7,5,20],[22,18,22,22,18,5,2]]],\n",
    "           [[[9,9,-10,11,12,8,21],[19,22,22,19,19,71,10]],\n",
    "           [[8,7,7,7,11,12,22],[20,21,18,18,21,8,11]],\n",
    "           [[9,7,12,9,11,7,22],[22,21,18,18,18,8,11]],\n",
    "           [[7,10,7,11,11,10,19],[19,20,22,20,20,12,11]]]])\n",
    "print('ques-1_temperatures of four months(nov,dec,jan,feb) of jaipur:-\\n',b)"
   ]
  },
  {
   "cell_type": "code",
   "execution_count": 2,
   "id": "d44114ef",
   "metadata": {},
   "outputs": [
    {
     "name": "stdout",
     "output_type": "stream",
     "text": [
      "ques.2_shape of created numpy array:-\n"
     ]
    },
    {
     "data": {
      "text/plain": [
       "(4, 4, 2, 7)"
      ]
     },
     "execution_count": 2,
     "metadata": {},
     "output_type": "execute_result"
    }
   ],
   "source": [
    "print('ques.2_shape of created numpy array:-')\n",
    "b.shape\n"
   ]
  },
  {
   "cell_type": "code",
   "execution_count": 3,
   "id": "18404be6",
   "metadata": {},
   "outputs": [
    {
     "name": "stdout",
     "output_type": "stream",
     "text": [
      "since there are four indexies, therefore it is a \"4-D array\".\n",
      "\n",
      "each index represent particular value i.e.:\n",
      "first index(4) represent four months.\n",
      "second index(4) represent four weeks of each month.\n",
      "third index(2) represent min and max temp respectively.\n",
      "forth index(7) represent 7 days of each week.\n"
     ]
    }
   ],
   "source": [
    "print('since there are four indexies, therefore it is a \"4-D array\".\\n\\neach index represent particular value i.e.:\\nfirst index(4) represent four months.\\nsecond index(4) represent four weeks of each month.\\nthird index(2) represent min and max temp respectively.\\nforth index(7) represent 7 days of each week.')"
   ]
  },
  {
   "cell_type": "code",
   "execution_count": 4,
   "id": "504c387f",
   "metadata": {},
   "outputs": [
    {
     "name": "stdout",
     "output_type": "stream",
     "text": [
      "ques.3_daily temps of first week of each month:-\n"
     ]
    },
    {
     "data": {
      "text/plain": [
       "array([[[ 10,   8,  15,   6,  11,  12,   6],\n",
       "        [ 29,  29,  30,  28,  26,  20,  21]],\n",
       "\n",
       "       [[  6,  15,   8,   9,  14,  15,  11],\n",
       "        [ 27,  24,  28,  20,  27,  28,  29]],\n",
       "\n",
       "       [[  7,   2,   7,   5,   5,   6,  22],\n",
       "        [ 21,  21,  18,  19,  22,  22,   8]],\n",
       "\n",
       "       [[  9,   9, -10,  11,  12,   8,  21],\n",
       "        [ 19,  22,  22,  19,  19,  71,  10]]])"
      ]
     },
     "execution_count": 4,
     "metadata": {},
     "output_type": "execute_result"
    }
   ],
   "source": [
    "print('ques.3_daily temps of first week of each month:-')\n",
    "b[:,0,:,:]"
   ]
  },
  {
   "cell_type": "code",
   "execution_count": 5,
   "id": "70f1744a",
   "metadata": {},
   "outputs": [
    {
     "name": "stdout",
     "output_type": "stream",
     "text": [
      "ques.4_temp of tuesdays of every month:-\n"
     ]
    },
    {
     "data": {
      "text/plain": [
       "array([[[ 8, 29],\n",
       "        [13, 29],\n",
       "        [15, 27],\n",
       "        [13, 32]],\n",
       "\n",
       "       [[15, 24],\n",
       "        [14, 28],\n",
       "        [10, 20],\n",
       "        [ 9, 32]],\n",
       "\n",
       "       [[ 2, 21],\n",
       "        [ 5, 22],\n",
       "        [ 6, 19],\n",
       "        [ 5, 18]],\n",
       "\n",
       "       [[ 9, 22],\n",
       "        [ 7, 21],\n",
       "        [ 7, 21],\n",
       "        [10, 20]]])"
      ]
     },
     "execution_count": 5,
     "metadata": {},
     "output_type": "execute_result"
    }
   ],
   "source": [
    "print('ques.4_temp of tuesdays of every month:-')\n",
    "b[0:,0:,0:,1]"
   ]
  },
  {
   "cell_type": "code",
   "execution_count": 6,
   "id": "9a0063c3",
   "metadata": {},
   "outputs": [
    {
     "name": "stdout",
     "output_type": "stream",
     "text": [
      "ques.5_the max temp for all the weekdays of the months of dec and feb:\n"
     ]
    },
    {
     "data": {
      "text/plain": [
       "array([[[27, 24, 28, 20, 27],\n",
       "        [24, 28, 27, 25, 22],\n",
       "        [29, 20, 21, 24, 27],\n",
       "        [25, 32, 30, 30, 23]],\n",
       "\n",
       "       [[19, 22, 22, 19, 19],\n",
       "        [20, 21, 18, 18, 21],\n",
       "        [22, 21, 18, 18, 18],\n",
       "        [19, 20, 22, 20, 20]]])"
      ]
     },
     "execution_count": 6,
     "metadata": {},
     "output_type": "execute_result"
    }
   ],
   "source": [
    "print('ques.5_the max temp for all the weekdays of the months of dec and feb:')\n",
    "b[1:4:2,0:,1,0:5]"
   ]
  },
  {
   "cell_type": "code",
   "execution_count": 70,
   "id": "ea9cec23",
   "metadata": {},
   "outputs": [
    {
     "data": {
      "text/plain": [
       "(array([0, 0, 1, 1, 2, 3, 3], dtype=int64),\n",
       " array([3, 6, 4, 6, 5, 4, 6], dtype=int64))"
      ]
     },
     "execution_count": 70,
     "metadata": {},
     "output_type": "execute_result"
    }
   ],
   "source": [
    "#6\n",
    "a=b[0,:,0,:]\n",
    "u=np.where(a<8)#index\n",
    "u"
   ]
  },
  {
   "cell_type": "code",
   "execution_count": 8,
   "id": "ea0c2544",
   "metadata": {},
   "outputs": [],
   "source": [
    "weeks={0:'week1',1:'week2',2:'week3',3:'week4'}"
   ]
  },
  {
   "cell_type": "code",
   "execution_count": 9,
   "id": "2607066f",
   "metadata": {},
   "outputs": [],
   "source": [
    "day={0:'mon',1:'tues',2:'wed',3:'thur',4:'fri',5:'sat',6:'sun'}"
   ]
  },
  {
   "cell_type": "code",
   "execution_count": 10,
   "id": "28069fd5",
   "metadata": {
    "scrolled": true
   },
   "outputs": [
    {
     "name": "stdout",
     "output_type": "stream",
     "text": [
      "ques.6_all the days along with week no. in nov when the min temp was less than 8 degrees:\n",
      "week1 thur\n",
      "week1 sun\n",
      "week2 thur\n",
      "week2 fri\n",
      "week2 sun\n",
      "week3 sat\n",
      "week4 fri\n",
      "week4 sun\n"
     ]
    }
   ],
   "source": [
    "print('ques.6_all the days along with week no. in nov when the min temp was less than 8 degrees:')\n",
    "for i in range(len(u[0])):\n",
    "    print(weeks[u[0][i]],day[u[1][i]])"
   ]
  },
  {
   "cell_type": "code",
   "execution_count": 11,
   "id": "8e0db6d8",
   "metadata": {
    "scrolled": true
   },
   "outputs": [],
   "source": [
    "#7:\n",
    "a=b[1:3,:,1,:]\n",
    "v=np.where(a>20)"
   ]
  },
  {
   "cell_type": "code",
   "execution_count": 12,
   "id": "127b4153",
   "metadata": {},
   "outputs": [],
   "source": [
    "month={0:'dec',1:'jan'}"
   ]
  },
  {
   "cell_type": "code",
   "execution_count": 42,
   "id": "a1decbd5",
   "metadata": {},
   "outputs": [
    {
     "name": "stdout",
     "output_type": "stream",
     "text": [
      "ques.7_all the weeks in dec and jan where the max temp has crossed a threshold of 20 degrees:\n",
      "dec week1\n",
      "dec week1\n",
      "dec week1\n",
      "dec week1\n",
      "dec week1\n",
      "dec week1\n",
      "dec week2\n",
      "dec week2\n",
      "dec week2\n",
      "dec week2\n",
      "dec week2\n",
      "dec week2\n",
      "dec week2\n",
      "dec week3\n",
      "dec week3\n",
      "dec week3\n",
      "dec week3\n",
      "dec week3\n",
      "dec week3\n",
      "dec week4\n",
      "dec week4\n",
      "dec week4\n",
      "dec week4\n",
      "dec week4\n",
      "dec week4\n",
      "jan week1\n",
      "jan week1\n",
      "jan week1\n",
      "jan week1\n",
      "jan week2\n",
      "jan week2\n",
      "jan week2\n",
      "jan week4\n",
      "jan week4\n",
      "jan week4\n"
     ]
    }
   ],
   "source": [
    "#7:\n",
    "print('ques.7_all the weeks in dec and jan where the max temp has crossed a threshold of 20 degrees:')\n",
    "for i in range(len(v[0])):\n",
    "    print(month[v[0][i]],weeks[v[1][i]])\n"
   ]
  },
  {
   "cell_type": "code",
   "execution_count": 53,
   "id": "f9b03595",
   "metadata": {},
   "outputs": [
    {
     "name": "stdout",
     "output_type": "stream",
     "text": [
      "ques.8_all the absurd values:\n",
      " absurd values are those values which is illogical or not related to the rest of the data present.\n",
      " yes, there are some absurd values present in the given data, those are:\n"
     ]
    },
    {
     "data": {
      "text/plain": [
       "array([ 2,  3,  4,  5,  6,  7,  8,  9, 10, 11, 12, 13, 14, 15, 17, 18, 19,\n",
       "       20, 21, 22, 23, 24, 25, 26, 27, 28, 29, 30, 32])"
      ]
     },
     "execution_count": 53,
     "metadata": {},
     "output_type": "execute_result"
    }
   ],
   "source": [
    "print('ques.8_all the absurd values:\\n absurd values are those values which is illogical or not related to the rest of the data present.\\n yes, there are some absurd values present in the given data, those are:')\n",
    "un=np.unique(b)\n",
    "un"
   ]
  },
  {
   "cell_type": "code",
   "execution_count": 50,
   "id": "a06ada5b",
   "metadata": {},
   "outputs": [
    {
     "name": "stdout",
     "output_type": "stream",
     "text": [
      "ques.9_we'll replace the absurd values with the mean or average of that particular month.\n"
     ]
    }
   ],
   "source": [
    "print(\"ques.9_we'll replace the absurd values with the mean or average of that particular month.\")"
   ]
  },
  {
   "cell_type": "code",
   "execution_count": 58,
   "id": "cf05b863",
   "metadata": {},
   "outputs": [
    {
     "name": "stdout",
     "output_type": "stream",
     "text": [
      "ques.10_we'll find the outliers/unusual values with the help of lower and upper temp ranges of each month.\n",
      " unusual min temp will by that temp which is lower than the lower temp range.\n",
      " and unusual max temp will by that temp which is greater than upper temp range.\n"
     ]
    }
   ],
   "source": [
    "print(\"ques.10_we'll find the outliers/unusual values with the help of lower and upper temp ranges of each month.\\n unusual min temp will by that temp which is lower than the lower temp range.\\n and unusual max temp will by that temp which is greater than upper temp range.\")"
   ]
  },
  {
   "cell_type": "code",
   "execution_count": 55,
   "id": "e62075c6",
   "metadata": {},
   "outputs": [],
   "source": [
    "iqr=np.percentile(b,75)-np.percentile(b,25)"
   ]
  },
  {
   "cell_type": "code",
   "execution_count": 56,
   "id": "a8b96add",
   "metadata": {},
   "outputs": [],
   "source": [
    "#nov\n",
    "uu=np.mean(b[0])-1.5*iqr#lower\n",
    "vv=np.mean(b[0])+1.5*iqr#upper"
   ]
  },
  {
   "cell_type": "code",
   "execution_count": 60,
   "id": "96bbcd67",
   "metadata": {},
   "outputs": [
    {
     "name": "stdout",
     "output_type": "stream",
     "text": [
      "the lower and upper temp ranges for the month of nov:\n"
     ]
    },
    {
     "data": {
      "text/plain": [
       "(-2.8571428571428577, 39.14285714285714)"
      ]
     },
     "execution_count": 60,
     "metadata": {},
     "output_type": "execute_result"
    }
   ],
   "source": [
    "print('the lower and upper temp ranges for the month of nov:')\n",
    "uu,vv"
   ]
  },
  {
   "cell_type": "code",
   "execution_count": 62,
   "id": "63a545b7",
   "metadata": {},
   "outputs": [
    {
     "name": "stdout",
     "output_type": "stream",
     "text": [
      "indexies of all the unusual values for the month of nov:\n"
     ]
    },
    {
     "data": {
      "text/plain": [
       "(array([], dtype=int64), array([], dtype=int64), array([], dtype=int64))"
      ]
     },
     "execution_count": 62,
     "metadata": {},
     "output_type": "execute_result"
    }
   ],
   "source": [
    "gg=np.where(b[0]<uu)\n",
    "print('indexies of all the unusual values for the month of nov:')\n",
    "gg"
   ]
  },
  {
   "cell_type": "code",
   "execution_count": 26,
   "id": "583b8b4c",
   "metadata": {},
   "outputs": [
    {
     "data": {
      "text/plain": [
       "(array([], dtype=int64), array([], dtype=int64), array([], dtype=int64))"
      ]
     },
     "execution_count": 26,
     "metadata": {},
     "output_type": "execute_result"
    }
   ],
   "source": [
    "hh=np.where(b[0]>vv)\n",
    "hh"
   ]
  },
  {
   "cell_type": "code",
   "execution_count": 27,
   "id": "ad28ea7a",
   "metadata": {},
   "outputs": [
    {
     "data": {
      "text/plain": [
       "(-2.8928571428571423, 39.10714285714286)"
      ]
     },
     "execution_count": 27,
     "metadata": {},
     "output_type": "execute_result"
    }
   ],
   "source": [
    "#dec\n",
    "uuu=np.mean(b[1])-1.5*iqr#lower\n",
    "vvv=np.mean(b[1])+1.5*iqr#upper\n",
    "uuu,vvv"
   ]
  },
  {
   "cell_type": "code",
   "execution_count": 28,
   "id": "808d421a",
   "metadata": {},
   "outputs": [
    {
     "data": {
      "text/plain": [
       "((array([], dtype=int64), array([], dtype=int64), array([], dtype=int64)),\n",
       " (array([], dtype=int64), array([], dtype=int64), array([], dtype=int64)))"
      ]
     },
     "execution_count": 28,
     "metadata": {},
     "output_type": "execute_result"
    }
   ],
   "source": [
    "ggg=np.where(b[1]<uuu)\n",
    "hhh=np.where(b[1]>vvv)\n",
    "hhh,ggg"
   ]
  },
  {
   "cell_type": "code",
   "execution_count": 29,
   "id": "f1d2e2bc",
   "metadata": {},
   "outputs": [
    {
     "data": {
      "text/plain": [
       "(-8.982142857142858, 33.01785714285714)"
      ]
     },
     "execution_count": 29,
     "metadata": {},
     "output_type": "execute_result"
    }
   ],
   "source": [
    "#jan\n",
    "uuuu=np.mean(b[2])-1.5*iqr#lower\n",
    "vvvv=np.mean(b[2])+1.5*iqr#upper\n",
    "uuuu,vvvv"
   ]
  },
  {
   "cell_type": "code",
   "execution_count": 30,
   "id": "090bd94e",
   "metadata": {},
   "outputs": [
    {
     "data": {
      "text/plain": [
       "((array([], dtype=int64), array([], dtype=int64), array([], dtype=int64)),\n",
       " (array([], dtype=int64), array([], dtype=int64), array([], dtype=int64)))"
      ]
     },
     "execution_count": 30,
     "metadata": {},
     "output_type": "execute_result"
    }
   ],
   "source": [
    "gggg=np.where(b[2]<uuuu)\n",
    "hhhh=np.where(b[2]>vvvv)\n",
    "hhhh,gggg"
   ]
  },
  {
   "cell_type": "code",
   "execution_count": 31,
   "id": "a58aa951",
   "metadata": {},
   "outputs": [
    {
     "data": {
      "text/plain": [
       "(-6.267857142857142, 35.73214285714286)"
      ]
     },
     "execution_count": 31,
     "metadata": {},
     "output_type": "execute_result"
    }
   ],
   "source": [
    "#feb\n",
    "uuuuu=np.mean(b[3])-1.5*iqr#lower\n",
    "vvvvv=np.mean(b[3])+1.5*iqr#upper\n",
    "uuuuu,vvvvv"
   ]
  },
  {
   "cell_type": "code",
   "execution_count": 32,
   "id": "15755236",
   "metadata": {},
   "outputs": [
    {
     "data": {
      "text/plain": [
       "((array([0], dtype=int64), array([1], dtype=int64), array([5], dtype=int64)),\n",
       " (array([0], dtype=int64), array([0], dtype=int64), array([2], dtype=int64)))"
      ]
     },
     "execution_count": 32,
     "metadata": {},
     "output_type": "execute_result"
    }
   ],
   "source": [
    "ggggg=np.where(b[3]<uuuuu)\n",
    "hhhhh=np.where(b[3]>vvvvv)\n",
    "hhhhh,ggggg"
   ]
  },
  {
   "cell_type": "code",
   "execution_count": 34,
   "id": "73a8a6ba",
   "metadata": {},
   "outputs": [
    {
     "data": {
      "text/plain": [
       "array([[[[ 10,   8,  15,   6,  11,  12,   6],\n",
       "         [ 29,  29,  30,  28,  26,  20,  21]],\n",
       "\n",
       "        [[ 14,  13,   8,   9,   6,  12,   7],\n",
       "         [ 25,  29,  25,  27,  27,  22,  28]],\n",
       "\n",
       "        [[ 10,  15,  14,  14,  13,   6,  14],\n",
       "         [ 23,  27,  23,  24,  23,  29,  30]],\n",
       "\n",
       "        [[  8,  13,  10,  13,   6,  11,   6],\n",
       "         [ 22,  32,  26,  22,  27,  27,  21]]],\n",
       "\n",
       "\n",
       "       [[[  6,  15,   8,   9,  14,  15,  11],\n",
       "         [ 27,  24,  28,  20,  27,  28,  29]],\n",
       "\n",
       "        [[ 13,  14,  10,  11,   9,   9,  10],\n",
       "         [ 24,  28,  27,  25,  22,  27,  27]],\n",
       "\n",
       "        [[ 13,  10,   7,  12,  10,   8,  13],\n",
       "         [ 29,  20,  21,  24,  27,  28,  30]],\n",
       "\n",
       "        [[ 10,   9,  12,   6,   6,   9,  12],\n",
       "         [ 25,  32,  30,  30,  23,  20,  21]]],\n",
       "\n",
       "\n",
       "       [[[  7,   2,   7,   5,   5,   6,  22],\n",
       "         [ 21,  21,  18,  19,  22,  22,   8]],\n",
       "\n",
       "        [[  4,   5,   6,   7,   6,   7,  22],\n",
       "         [ 21,  22,  21,  19,  20,   4,   6]],\n",
       "\n",
       "        [[  2,   6,   6,   7,   4,   4,  22],\n",
       "         [ 18,  19,  19,  19,  18,   6,   7]],\n",
       "\n",
       "        [[  4,   5,   3,   8,   7,   5,  20],\n",
       "         [ 22,  18,  22,  22,  18,   5,   2]]],\n",
       "\n",
       "\n",
       "       [[[  9,   9, -10,  11,  12,   8,  21],\n",
       "         [ 19,  22,  22,  19,  19,  71,  10]],\n",
       "\n",
       "        [[  8,   7,   7,   7,  11,  12,  22],\n",
       "         [ 20,  21,  18,  18,  21,   8,  11]],\n",
       "\n",
       "        [[  9,   7,  12,   9,  11,   7,  22],\n",
       "         [ 22,  21,  18,  18,  18,   8,  11]],\n",
       "\n",
       "        [[  7,  10,   7,  11,  11,  10,  19],\n",
       "         [ 19,  20,  22,  20,  20,  12,  11]]]])"
      ]
     },
     "execution_count": 34,
     "metadata": {},
     "output_type": "execute_result"
    }
   ],
   "source": [
    "b[0][b[0]<uu]=np.mean(b[0,:,0,:])\n",
    "b[0][b[0]>vv]=np.mean(b[0,:,1,:])\n",
    "b"
   ]
  },
  {
   "cell_type": "code",
   "execution_count": 36,
   "id": "99f1c73c",
   "metadata": {},
   "outputs": [
    {
     "data": {
      "text/plain": [
       "21"
      ]
     },
     "execution_count": 36,
     "metadata": {},
     "output_type": "execute_result"
    }
   ],
   "source": [
    "#12:\n",
    "int(np.mean(b[0:,0:,1,:]))#np.average(b[index]) se bi same ans aa jaega"
   ]
  },
  {
   "cell_type": "code",
   "execution_count": 37,
   "id": "f1dfa5d2",
   "metadata": {},
   "outputs": [
    {
     "ename": "IndentationError",
     "evalue": "unexpected indent (3342820294.py, line 2)",
     "output_type": "error",
     "traceback": [
      "\u001b[1;36m  Cell \u001b[1;32mIn[37], line 2\u001b[1;36m\u001b[0m\n\u001b[1;33m    int(np.average(b[1,:,0,:]))\u001b[0m\n\u001b[1;37m    ^\u001b[0m\n\u001b[1;31mIndentationError\u001b[0m\u001b[1;31m:\u001b[0m unexpected indent\n"
     ]
    }
   ],
   "source": [
    "#13:\n",
    " int(np.average(b[1,:,0,:]))"
   ]
  },
  {
   "cell_type": "code",
   "execution_count": null,
   "id": "15f03afb",
   "metadata": {},
   "outputs": [],
   "source": [
    "#14:\n",
    "int(np.average(b[1:3,:,:,:]))"
   ]
  },
  {
   "cell_type": "code",
   "execution_count": null,
   "id": "e12dcf33",
   "metadata": {},
   "outputs": [],
   "source": [
    "#15(part1):min temp in dec\n",
    "q=np.amin(b[1,:,:,:])\n",
    "q"
   ]
  },
  {
   "cell_type": "code",
   "execution_count": null,
   "id": "f685b421",
   "metadata": {},
   "outputs": [],
   "source": [
    "#15(part1):min temp in jan\n",
    "w=np.amin(b[2,:,:,:])\n",
    "w"
   ]
  },
  {
   "cell_type": "code",
   "execution_count": 71,
   "id": "7ffc0e2a",
   "metadata": {},
   "outputs": [
    {
     "data": {
      "text/plain": [
       "(array([0, 3, 3], dtype=int64),\n",
       " array([0, 0, 0], dtype=int64),\n",
       " array([0, 3, 4], dtype=int64))"
      ]
     },
     "execution_count": 71,
     "metadata": {},
     "output_type": "execute_result"
    }
   ],
   "source": [
    "#15(part2):#position of least temp in dec\n",
    "a=b[1,:,:,:]\n",
    "h=np.where(a==np.amin(b[1,:,:,:]))\n",
    "h"
   ]
  },
  {
   "cell_type": "code",
   "execution_count": 72,
   "id": "bda6d881",
   "metadata": {},
   "outputs": [
    {
     "data": {
      "text/plain": [
       "(array([0, 2, 3], dtype=int64),\n",
       " array([0, 0, 1], dtype=int64),\n",
       " array([1, 0, 6], dtype=int64))"
      ]
     },
     "execution_count": 72,
     "metadata": {},
     "output_type": "execute_result"
    }
   ],
   "source": [
    "#15(part2);#position of least temp in jan\n",
    "a=b[2,:,:,:]\n",
    "e=np.where(a==np.amin(b[2,:,:,:]))\n",
    "e"
   ]
  },
  {
   "cell_type": "code",
   "execution_count": 73,
   "id": "82e6cedc",
   "metadata": {},
   "outputs": [],
   "source": [
    "months={0:'nov',1:'dec',2:'jan',3:'feb'}"
   ]
  },
  {
   "cell_type": "code",
   "execution_count": 74,
   "id": "4a9a2eb5",
   "metadata": {},
   "outputs": [
    {
     "name": "stdout",
     "output_type": "stream",
     "text": [
      "mon week1 nov\n",
      "thur week1 feb\n",
      "fri week1 feb\n"
     ]
    }
   ],
   "source": [
    "#15(part2):day,week,month for least temp in dec\n",
    "for i in range(len(h[0])):\n",
    "    print(day[h[2][i]],weeks[h[1][i]],months[h[0][i]])"
   ]
  },
  {
   "cell_type": "code",
   "execution_count": 75,
   "id": "23ba5768",
   "metadata": {},
   "outputs": [
    {
     "name": "stdout",
     "output_type": "stream",
     "text": [
      "tues week1 nov\n",
      "mon week1 jan\n",
      "sun week2 feb\n"
     ]
    }
   ],
   "source": [
    "#15(part2):day,week,month for least temp in jan\n",
    "for i in range(len(e[0])):\n",
    "    print(day[e[2][i]],weeks[e[1][i]],months[e[0][i]])"
   ]
  },
  {
   "cell_type": "code",
   "execution_count": 76,
   "id": "78779cb6",
   "metadata": {},
   "outputs": [
    {
     "data": {
      "text/plain": [
       "22"
      ]
     },
     "execution_count": 76,
     "metadata": {},
     "output_type": "execute_result"
    }
   ],
   "source": [
    "#16:max temp in feb\n",
    "np.amax(b[3,:,1,:])"
   ]
  },
  {
   "cell_type": "code",
   "execution_count": 77,
   "id": "dd132597",
   "metadata": {},
   "outputs": [
    {
     "data": {
      "text/plain": [
       "(array([0, 0, 2, 3], dtype=int64), array([1, 2, 0, 2], dtype=int64))"
      ]
     },
     "execution_count": 77,
     "metadata": {},
     "output_type": "execute_result"
    }
   ],
   "source": [
    "#16:position\n",
    "a=b[3,:,1,:]\n",
    "t=np.where(a==np.amax(b[3,:,1,:]))\n",
    "t"
   ]
  },
  {
   "cell_type": "code",
   "execution_count": 78,
   "id": "00263896",
   "metadata": {},
   "outputs": [
    {
     "name": "stdout",
     "output_type": "stream",
     "text": [
      "tues week1\n",
      "wed week1\n",
      "mon week3\n",
      "wed week4\n"
     ]
    }
   ],
   "source": [
    "#16:day and week of max temp for feb\n",
    "for i in range(len(t[0])):\n",
    "    print(day[t[1][i]],weeks[t[0][i]])"
   ]
  },
  {
   "cell_type": "code",
   "execution_count": 82,
   "id": "a285f220",
   "metadata": {},
   "outputs": [
    {
     "data": {
      "text/plain": [
       "18"
      ]
     },
     "execution_count": 82,
     "metadata": {},
     "output_type": "execute_result"
    }
   ],
   "source": [
    "#17:(avg temp of the month)\n",
    "y=int(np.average(b[0,:,:,:]))\n",
    "y"
   ]
  },
  {
   "cell_type": "code",
   "execution_count": 80,
   "id": "4305e0d5",
   "metadata": {},
   "outputs": [
    {
     "data": {
      "text/plain": [
       "(array([], dtype=int64), array([], dtype=int64))"
      ]
     },
     "execution_count": 80,
     "metadata": {},
     "output_type": "execute_result"
    }
   ],
   "source": [
    "#17:\n",
    "a=b[0,:,:,:]\n",
    "o=np.where(b[0,:,1,:]<y)\n",
    "o\n",
    "#empty arrays since there are no days where the max temp of the day dropped by the avg temp "
   ]
  },
  {
   "cell_type": "code",
   "execution_count": null,
   "id": "a5519d12",
   "metadata": {},
   "outputs": [],
   "source": [
    "#18:"
   ]
  },
  {
   "cell_type": "code",
   "execution_count": 48,
   "id": "f8c5420a",
   "metadata": {},
   "outputs": [
    {
     "name": "stdout",
     "output_type": "stream",
     "text": [
      "[[[[50.  46.4 59.  42.8 51.8 53.6 42.8]\n",
      "   [84.2 84.2 86.  82.4 78.8 68.  69.8]]\n",
      "\n",
      "  [[57.2 55.4 46.4 55.4 42.8 53.6 44.6]\n",
      "   [77.  84.2 77.  80.6 80.6 71.6 82.4]]\n",
      "\n",
      "  [[50.  59.  57.2 57.2 55.4 42.8 57.2]\n",
      "   [73.4 80.6 73.4 75.2 73.4 84.2 86. ]]\n",
      "\n",
      "  [[46.4 55.4 50.  55.4 42.8 51.8 42.8]\n",
      "   [71.6 89.6 78.8 71.6 80.6 80.6 69.8]]]\n",
      "\n",
      "\n",
      " [[[42.8 59.  46.4 48.2 57.2 59.  51.8]\n",
      "   [80.6 75.2 82.4 68.  80.6 82.4 84.2]]\n",
      "\n",
      "  [[55.4 57.2 50.  51.8 48.2 48.2 50. ]\n",
      "   [75.2 82.4 80.6 77.  71.6 80.6 80.6]]\n",
      "\n",
      "  [[55.4 50.  44.6 53.6 50.  46.4 55.4]\n",
      "   [84.2 68.  69.8 75.2 80.6 82.4 86. ]]\n",
      "\n",
      "  [[50.  48.2 53.6 42.8 42.8 48.2 53.6]\n",
      "   [77.  89.6 86.  86.  73.4 68.  69.8]]]\n",
      "\n",
      "\n",
      " [[[44.6 35.6 44.6 41.  41.  42.8 71.6]\n",
      "   [69.8 69.8 64.4 66.2 71.6 71.6 46.4]]\n",
      "\n",
      "  [[39.2 41.  42.8 44.6 42.8 44.6 71.6]\n",
      "   [69.8 71.6 69.8 66.2 68.  39.2 42.8]]\n",
      "\n",
      "  [[35.6 42.8 42.8 44.6 39.2 39.2 71.6]\n",
      "   [64.4 66.2 66.2 66.2 64.4 42.8 44.6]]\n",
      "\n",
      "  [[39.2 41.  37.4 46.4 44.6 41.  68. ]\n",
      "   [71.6 64.4 71.6 71.6 64.4 41.  35.6]]]\n",
      "\n",
      "\n",
      " [[[48.2 48.2 50.  51.8 53.6 46.4 69.8]\n",
      "   [66.2 71.6 71.6 66.2 66.2 62.6 50. ]]\n",
      "\n",
      "  [[46.4 44.6 44.6 44.6 51.8 53.6 71.6]\n",
      "   [68.  69.8 64.4 64.4 69.8 46.4 51.8]]\n",
      "\n",
      "  [[48.2 44.6 53.6 48.2 51.8 44.6 71.6]\n",
      "   [71.6 69.8 64.4 64.4 64.4 46.4 51.8]]\n",
      "\n",
      "  [[44.6 50.  44.6 51.8 51.8 50.  66.2]\n",
      "   [66.2 68.  71.6 68.  68.  53.6 51.8]]]]\n",
      "[[[[50.  46.4 59.  42.8 51.8 53.6 42.8]\n",
      "   [84.2 84.2 86.  82.4 78.8 68.  69.8]]\n",
      "\n",
      "  [[57.2 55.4 46.4 55.4 42.8 53.6 44.6]\n",
      "   [77.  84.2 77.  80.6 80.6 71.6 82.4]]\n",
      "\n",
      "  [[50.  59.  57.2 57.2 55.4 42.8 57.2]\n",
      "   [73.4 80.6 73.4 75.2 73.4 84.2 86. ]]\n",
      "\n",
      "  [[46.4 55.4 50.  55.4 42.8 51.8 42.8]\n",
      "   [71.6 89.6 78.8 71.6 80.6 80.6 69.8]]]\n",
      "\n",
      "\n",
      " [[[42.8 59.  46.4 48.2 57.2 59.  51.8]\n",
      "   [80.6 75.2 82.4 68.  80.6 82.4 84.2]]\n",
      "\n",
      "  [[55.4 57.2 50.  51.8 48.2 48.2 50. ]\n",
      "   [75.2 82.4 80.6 77.  71.6 80.6 80.6]]\n",
      "\n",
      "  [[55.4 50.  44.6 53.6 50.  46.4 55.4]\n",
      "   [84.2 68.  69.8 75.2 80.6 82.4 86. ]]\n",
      "\n",
      "  [[50.  48.2 53.6 42.8 42.8 48.2 53.6]\n",
      "   [77.  89.6 86.  86.  73.4 68.  69.8]]]\n",
      "\n",
      "\n",
      " [[[44.6 35.6 44.6 41.  41.  42.8 71.6]\n",
      "   [69.8 69.8 64.4 66.2 71.6 71.6 46.4]]\n",
      "\n",
      "  [[39.2 41.  42.8 44.6 42.8 44.6 71.6]\n",
      "   [69.8 71.6 69.8 66.2 68.  39.2 42.8]]\n",
      "\n",
      "  [[35.6 42.8 42.8 44.6 39.2 39.2 71.6]\n",
      "   [64.4 66.2 66.2 66.2 64.4 42.8 44.6]]\n",
      "\n",
      "  [[39.2 41.  37.4 46.4 44.6 41.  68. ]\n",
      "   [71.6 64.4 71.6 71.6 64.4 41.  35.6]]]\n",
      "\n",
      "\n",
      " [[[48.2 48.2 50.  51.8 53.6 46.4 69.8]\n",
      "   [66.2 71.6 71.6 66.2 66.2 62.6 50. ]]\n",
      "\n",
      "  [[46.4 44.6 44.6 44.6 51.8 53.6 71.6]\n",
      "   [68.  69.8 64.4 64.4 69.8 46.4 51.8]]\n",
      "\n",
      "  [[48.2 44.6 53.6 48.2 51.8 44.6 71.6]\n",
      "   [71.6 69.8 64.4 64.4 64.4 46.4 51.8]]\n",
      "\n",
      "  [[44.6 50.  44.6 51.8 51.8 50.  66.2]\n",
      "   [66.2 68.  71.6 68.  68.  53.6 51.8]]]]\n",
      "[[[[50.  46.4 59.  42.8 51.8 53.6 42.8]\n",
      "   [84.2 84.2 86.  82.4 78.8 68.  69.8]]\n",
      "\n",
      "  [[57.2 55.4 46.4 55.4 42.8 53.6 44.6]\n",
      "   [77.  84.2 77.  80.6 80.6 71.6 82.4]]\n",
      "\n",
      "  [[50.  59.  57.2 57.2 55.4 42.8 57.2]\n",
      "   [73.4 80.6 73.4 75.2 73.4 84.2 86. ]]\n",
      "\n",
      "  [[46.4 55.4 50.  55.4 42.8 51.8 42.8]\n",
      "   [71.6 89.6 78.8 71.6 80.6 80.6 69.8]]]\n",
      "\n",
      "\n",
      " [[[42.8 59.  46.4 48.2 57.2 59.  51.8]\n",
      "   [80.6 75.2 82.4 68.  80.6 82.4 84.2]]\n",
      "\n",
      "  [[55.4 57.2 50.  51.8 48.2 48.2 50. ]\n",
      "   [75.2 82.4 80.6 77.  71.6 80.6 80.6]]\n",
      "\n",
      "  [[55.4 50.  44.6 53.6 50.  46.4 55.4]\n",
      "   [84.2 68.  69.8 75.2 80.6 82.4 86. ]]\n",
      "\n",
      "  [[50.  48.2 53.6 42.8 42.8 48.2 53.6]\n",
      "   [77.  89.6 86.  86.  73.4 68.  69.8]]]\n",
      "\n",
      "\n",
      " [[[44.6 35.6 44.6 41.  41.  42.8 71.6]\n",
      "   [69.8 69.8 64.4 66.2 71.6 71.6 46.4]]\n",
      "\n",
      "  [[39.2 41.  42.8 44.6 42.8 44.6 71.6]\n",
      "   [69.8 71.6 69.8 66.2 68.  39.2 42.8]]\n",
      "\n",
      "  [[35.6 42.8 42.8 44.6 39.2 39.2 71.6]\n",
      "   [64.4 66.2 66.2 66.2 64.4 42.8 44.6]]\n",
      "\n",
      "  [[39.2 41.  37.4 46.4 44.6 41.  68. ]\n",
      "   [71.6 64.4 71.6 71.6 64.4 41.  35.6]]]\n",
      "\n",
      "\n",
      " [[[48.2 48.2 50.  51.8 53.6 46.4 69.8]\n",
      "   [66.2 71.6 71.6 66.2 66.2 62.6 50. ]]\n",
      "\n",
      "  [[46.4 44.6 44.6 44.6 51.8 53.6 71.6]\n",
      "   [68.  69.8 64.4 64.4 69.8 46.4 51.8]]\n",
      "\n",
      "  [[48.2 44.6 53.6 48.2 51.8 44.6 71.6]\n",
      "   [71.6 69.8 64.4 64.4 64.4 46.4 51.8]]\n",
      "\n",
      "  [[44.6 50.  44.6 51.8 51.8 50.  66.2]\n",
      "   [66.2 68.  71.6 68.  68.  53.6 51.8]]]]\n",
      "[[[[50.  46.4 59.  42.8 51.8 53.6 42.8]\n",
      "   [84.2 84.2 86.  82.4 78.8 68.  69.8]]\n",
      "\n",
      "  [[57.2 55.4 46.4 55.4 42.8 53.6 44.6]\n",
      "   [77.  84.2 77.  80.6 80.6 71.6 82.4]]\n",
      "\n",
      "  [[50.  59.  57.2 57.2 55.4 42.8 57.2]\n",
      "   [73.4 80.6 73.4 75.2 73.4 84.2 86. ]]\n",
      "\n",
      "  [[46.4 55.4 50.  55.4 42.8 51.8 42.8]\n",
      "   [71.6 89.6 78.8 71.6 80.6 80.6 69.8]]]\n",
      "\n",
      "\n",
      " [[[42.8 59.  46.4 48.2 57.2 59.  51.8]\n",
      "   [80.6 75.2 82.4 68.  80.6 82.4 84.2]]\n",
      "\n",
      "  [[55.4 57.2 50.  51.8 48.2 48.2 50. ]\n",
      "   [75.2 82.4 80.6 77.  71.6 80.6 80.6]]\n",
      "\n",
      "  [[55.4 50.  44.6 53.6 50.  46.4 55.4]\n",
      "   [84.2 68.  69.8 75.2 80.6 82.4 86. ]]\n",
      "\n",
      "  [[50.  48.2 53.6 42.8 42.8 48.2 53.6]\n",
      "   [77.  89.6 86.  86.  73.4 68.  69.8]]]\n",
      "\n",
      "\n",
      " [[[44.6 35.6 44.6 41.  41.  42.8 71.6]\n",
      "   [69.8 69.8 64.4 66.2 71.6 71.6 46.4]]\n",
      "\n",
      "  [[39.2 41.  42.8 44.6 42.8 44.6 71.6]\n",
      "   [69.8 71.6 69.8 66.2 68.  39.2 42.8]]\n",
      "\n",
      "  [[35.6 42.8 42.8 44.6 39.2 39.2 71.6]\n",
      "   [64.4 66.2 66.2 66.2 64.4 42.8 44.6]]\n",
      "\n",
      "  [[39.2 41.  37.4 46.4 44.6 41.  68. ]\n",
      "   [71.6 64.4 71.6 71.6 64.4 41.  35.6]]]\n",
      "\n",
      "\n",
      " [[[48.2 48.2 50.  51.8 53.6 46.4 69.8]\n",
      "   [66.2 71.6 71.6 66.2 66.2 62.6 50. ]]\n",
      "\n",
      "  [[46.4 44.6 44.6 44.6 51.8 53.6 71.6]\n",
      "   [68.  69.8 64.4 64.4 69.8 46.4 51.8]]\n",
      "\n",
      "  [[48.2 44.6 53.6 48.2 51.8 44.6 71.6]\n",
      "   [71.6 69.8 64.4 64.4 64.4 46.4 51.8]]\n",
      "\n",
      "  [[44.6 50.  44.6 51.8 51.8 50.  66.2]\n",
      "   [66.2 68.  71.6 68.  68.  53.6 51.8]]]]\n"
     ]
    }
   ],
   "source": [
    "#19_\n",
    "for i in range(len(b)):\n",
    "    n=(b*1.8)+32\n",
    "    print(n)"
   ]
  },
  {
   "cell_type": "code",
   "execution_count": 64,
   "id": "630ac87d",
   "metadata": {},
   "outputs": [
    {
     "name": "stdout",
     "output_type": "stream",
     "text": [
      "average temp of first week of dec:\t 18.642857142857142\n",
      "average temp of second week of dec:\t 18.285714285714285\n",
      "average temp of third week of dec:\t 18.0\n",
      "average temp of forth week of dec:\t 17.5\n"
     ]
    }
   ],
   "source": [
    "#20_\n",
    "aa=np.average(b[1,0,:,:])\n",
    "print('average temp of first week of dec:\\t',aa)\n",
    "bb=np.average(b[1,1,:,:])\n",
    "print('average temp of second week of dec:\\t',bb)\n",
    "cc=np.average(b[1,2,:,:])\n",
    "print('average temp of third week of dec:\\t',cc)     \n",
    "dd=np.average(b[1,3,:,:])\n",
    "print('average temp of forth week of dec:\\t',dd)"
   ]
  },
  {
   "cell_type": "code",
   "execution_count": 67,
   "id": "93ed1a87",
   "metadata": {},
   "outputs": [
    {
     "data": {
      "text/plain": [
       "[17.5, 18.0, 18.285714285714285, 18.642857142857142]"
      ]
     },
     "execution_count": 67,
     "metadata": {},
     "output_type": "execute_result"
    }
   ],
   "source": [
    "j=[dd,cc,bb,aa]\n",
    "j.sort()\n",
    "j"
   ]
  },
  {
   "cell_type": "code",
   "execution_count": 38,
   "id": "0c9c52fd",
   "metadata": {},
   "outputs": [
    {
     "name": "stdout",
     "output_type": "stream",
     "text": [
      "week4: [[10  9 12  6  6  9 12]\n",
      " [25 32 30 30 23 20 21]] < week3: [[13 10  7 12 10  8 13]\n",
      " [29 20 21 24 27 28 30]] < week2: [[13 14 10 11  9  9 10]\n",
      " [24 28 27 25 22 27 27]] < week1: [[ 6 15  8  9 14 15 11]\n",
      " [27 24 28 20 27 28 29]]\n"
     ]
    }
   ],
   "source": [
    "print('week4:',b[1,3,:,:],'< week3:',b[1,2,:,:],'< week2:',b[1,1,:,:],'< week1:',b[1,0,:,:])"
   ]
  },
  {
   "cell_type": "code",
   "execution_count": 43,
   "id": "d5d99834",
   "metadata": {},
   "outputs": [
    {
     "data": {
      "text/plain": [
       "15.598214285714286"
      ]
     },
     "execution_count": 43,
     "metadata": {},
     "output_type": "execute_result"
    }
   ],
   "source": [
    "#21_\n",
    "k=np.average(b)\n",
    "k"
   ]
  },
  {
   "cell_type": "code",
   "execution_count": 83,
   "id": "b34f6049",
   "metadata": {},
   "outputs": [
    {
     "data": {
      "text/plain": [
       "array([[[ 19,  21,  15,  22,  15,   8,  15],\n",
       "        [ 11,  16,  17,  14,  21,  10,  21],\n",
       "        [ 13,  12,   9,  10,  10,  23,  16],\n",
       "        [ 14,  19,  16,   9,  21,  16,  15]],\n",
       "\n",
       "       [[ 21,   9,  20,  11,  13,  13,  18],\n",
       "        [ 11,  14,  17,  14,  13,  18,  17],\n",
       "        [ 16,  10,  14,  12,  17,  20,  17],\n",
       "        [ 15,  23,  18,  24,  17,  11,   9]],\n",
       "\n",
       "       [[ 14,  19,  11,  14,  17,  16, -14],\n",
       "        [ 17,  17,  15,  12,  14,  -3, -16],\n",
       "        [ 16,  13,  13,  12,  14,   2, -15],\n",
       "        [ 18,  13,  19,  14,  11,   0, -18]],\n",
       "\n",
       "       [[ 10,  13,  12,   8,   7,   9, -11],\n",
       "        [ 12,  14,  11,  11,  10,  -4, -11],\n",
       "        [ 13,  14,   6,   9,   7,   1, -11],\n",
       "        [ 12,  10,  15,   9,   9,   2,  -8]]])"
      ]
     },
     "execution_count": 83,
     "metadata": {},
     "output_type": "execute_result"
    }
   ],
   "source": [
    "#22_\n",
    "b[:,:,1,:]-b[:,:,0,:]"
   ]
  },
  {
   "cell_type": "code",
   "execution_count": 84,
   "id": "f7e34258",
   "metadata": {},
   "outputs": [
    {
     "data": {
      "text/plain": [
       "array([[[  0,   2,   6],\n",
       "        [ -4,  -2,   5],\n",
       "        [ -4,  -1,  -6],\n",
       "        [-10,   4,   0]],\n",
       "\n",
       "       [[  3,   8,  -1],\n",
       "        [ -4,   2,  -5],\n",
       "        [  9,  -3,  -1],\n",
       "        [ -7,   0,   3]],\n",
       "\n",
       "       [[  0,  -1,   0],\n",
       "        [ -1,   2,  16],\n",
       "        [ -1,   0,  12],\n",
       "        [  4,   0,  13]],\n",
       "\n",
       "       [[ -3,   3,   2],\n",
       "        [ -1,   0,  13],\n",
       "        [  1,   0,  10],\n",
       "        [ -1,   2,   8]]])"
      ]
     },
     "execution_count": 84,
     "metadata": {},
     "output_type": "execute_result"
    }
   ],
   "source": [
    "#23_\n",
    "ii=b[:,:,1,0:6:2]-b[:,:,1,1:7:2]\n",
    "ii"
   ]
  },
  {
   "cell_type": "code",
   "execution_count": 85,
   "id": "cd5e5679",
   "metadata": {},
   "outputs": [
    {
     "data": {
      "text/plain": [
       "array([[[ 2,  9, -1],\n",
       "        [ 1, -5, -6],\n",
       "        [-5,  0,  7],\n",
       "        [-5, -3, -5]],\n",
       "\n",
       "       [[-9, -1, -1],\n",
       "        [-1, -1,  0],\n",
       "        [ 3, -5,  2],\n",
       "        [ 1,  6, -3]],\n",
       "\n",
       "       [[ 5,  2, -1],\n",
       "        [-1, -1, -1],\n",
       "        [-4, -1,  0],\n",
       "        [-1, -5,  2]],\n",
       "\n",
       "       [[ 0, -1,  4],\n",
       "        [ 1,  0, -1],\n",
       "        [ 2,  3,  4],\n",
       "        [-3, -4,  1]]])"
      ]
     },
     "execution_count": 85,
     "metadata": {},
     "output_type": "execute_result"
    }
   ],
   "source": [
    "#24_\n",
    "oo=b[:,:,0,0:6:2]-b[:,:,0,1:7:2]\n",
    "oo"
   ]
  },
  {
   "cell_type": "code",
   "execution_count": 86,
   "id": "ac3f9eab",
   "metadata": {},
   "outputs": [
    {
     "data": {
      "text/plain": [
       "array([[[  0,   2,   6],\n",
       "        [ -4,  -2,   5],\n",
       "        [ -4,  -1,  -6],\n",
       "        [-10,   4,   0]],\n",
       "\n",
       "       [[  3,   8,  -1],\n",
       "        [ -4,   2,  -5],\n",
       "        [  9,  -3,  -1],\n",
       "        [ -7,   0,   3]],\n",
       "\n",
       "       [[  0,  -1,   0],\n",
       "        [ -1,   2,  16],\n",
       "        [ -1,   0,  12],\n",
       "        [  4,   0,  13]],\n",
       "\n",
       "       [[ -3,   3,   2],\n",
       "        [ -1,   0,  13],\n",
       "        [  1,   0,  10],\n",
       "        [ -1,   2,   8]],\n",
       "\n",
       "       [[  2,   9,  -1],\n",
       "        [  1,  -5,  -6],\n",
       "        [ -5,   0,   7],\n",
       "        [ -5,  -3,  -5]],\n",
       "\n",
       "       [[ -9,  -1,  -1],\n",
       "        [ -1,  -1,   0],\n",
       "        [  3,  -5,   2],\n",
       "        [  1,   6,  -3]],\n",
       "\n",
       "       [[  5,   2,  -1],\n",
       "        [ -1,  -1,  -1],\n",
       "        [ -4,  -1,   0],\n",
       "        [ -1,  -5,   2]],\n",
       "\n",
       "       [[  0,  -1,   4],\n",
       "        [  1,   0,  -1],\n",
       "        [  2,   3,   4],\n",
       "        [ -3,  -4,   1]]])"
      ]
     },
     "execution_count": 86,
     "metadata": {},
     "output_type": "execute_result"
    }
   ],
   "source": [
    "#25_\n",
    "np.concatenate((ii,oo),axis=0)"
   ]
  }
 ],
 "metadata": {
  "kernelspec": {
   "display_name": "Python 3 (ipykernel)",
   "language": "python",
   "name": "python3"
  },
  "language_info": {
   "codemirror_mode": {
    "name": "ipython",
    "version": 3
   },
   "file_extension": ".py",
   "mimetype": "text/x-python",
   "name": "python",
   "nbconvert_exporter": "python",
   "pygments_lexer": "ipython3",
   "version": "3.9.13"
  }
 },
 "nbformat": 4,
 "nbformat_minor": 5
}
